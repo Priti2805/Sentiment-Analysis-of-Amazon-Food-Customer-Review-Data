{
 "cells": [
  {
   "cell_type": "code",
   "execution_count": 1,
   "id": "7482645a",
   "metadata": {},
   "outputs": [],
   "source": [
    "import pandas as pd\n",
    "import numpy as np \n",
    "from keras.layers import Dense , SimpleRNN , GRU , LSTM , Embedding\n",
    "from keras.models import Sequential\n",
    "from tensorflow.keras.utils import to_categorical"
   ]
  },
  {
   "cell_type": "code",
   "execution_count": 2,
   "id": "f165e96c",
   "metadata": {},
   "outputs": [],
   "source": [
    "amazon_foodreview = pd.read_csv(r\"D:\\data set\\Amazon Food Reviews.csv\")"
   ]
  },
  {
   "cell_type": "code",
   "execution_count": 3,
   "id": "d389e773",
   "metadata": {},
   "outputs": [
    {
     "data": {
      "text/html": [
       "<div>\n",
       "<style scoped>\n",
       "    .dataframe tbody tr th:only-of-type {\n",
       "        vertical-align: middle;\n",
       "    }\n",
       "\n",
       "    .dataframe tbody tr th {\n",
       "        vertical-align: top;\n",
       "    }\n",
       "\n",
       "    .dataframe thead th {\n",
       "        text-align: right;\n",
       "    }\n",
       "</style>\n",
       "<table border=\"1\" class=\"dataframe\">\n",
       "  <thead>\n",
       "    <tr style=\"text-align: right;\">\n",
       "      <th></th>\n",
       "      <th>Id</th>\n",
       "      <th>ProductId</th>\n",
       "      <th>UserId</th>\n",
       "      <th>ProfileName</th>\n",
       "      <th>HelpfulnessNumerator</th>\n",
       "      <th>HelpfulnessDenominator</th>\n",
       "      <th>Score</th>\n",
       "      <th>Time</th>\n",
       "      <th>Summary</th>\n",
       "      <th>Text</th>\n",
       "    </tr>\n",
       "  </thead>\n",
       "  <tbody>\n",
       "    <tr>\n",
       "      <th>0</th>\n",
       "      <td>1</td>\n",
       "      <td>B001E4KFG0</td>\n",
       "      <td>A3SGXH7AUHU8GW</td>\n",
       "      <td>delmartian</td>\n",
       "      <td>1</td>\n",
       "      <td>1</td>\n",
       "      <td>5</td>\n",
       "      <td>1303862400</td>\n",
       "      <td>Good Quality Dog Food</td>\n",
       "      <td>I have bought several of the Vitality canned d...</td>\n",
       "    </tr>\n",
       "    <tr>\n",
       "      <th>1</th>\n",
       "      <td>2</td>\n",
       "      <td>B00813GRG4</td>\n",
       "      <td>A1D87F6ZCVE5NK</td>\n",
       "      <td>dll pa</td>\n",
       "      <td>0</td>\n",
       "      <td>0</td>\n",
       "      <td>1</td>\n",
       "      <td>1346976000</td>\n",
       "      <td>Not as Advertised</td>\n",
       "      <td>Product arrived labeled as Jumbo Salted Peanut...</td>\n",
       "    </tr>\n",
       "    <tr>\n",
       "      <th>2</th>\n",
       "      <td>3</td>\n",
       "      <td>B000LQOCH0</td>\n",
       "      <td>ABXLMWJIXXAIN</td>\n",
       "      <td>Natalia Corres \"Natalia Corres\"</td>\n",
       "      <td>1</td>\n",
       "      <td>1</td>\n",
       "      <td>4</td>\n",
       "      <td>1219017600</td>\n",
       "      <td>\"Delight\" says it all</td>\n",
       "      <td>This is a confection that has been around a fe...</td>\n",
       "    </tr>\n",
       "    <tr>\n",
       "      <th>3</th>\n",
       "      <td>4</td>\n",
       "      <td>B000UA0QIQ</td>\n",
       "      <td>A395BORC6FGVXV</td>\n",
       "      <td>Karl</td>\n",
       "      <td>3</td>\n",
       "      <td>3</td>\n",
       "      <td>2</td>\n",
       "      <td>1307923200</td>\n",
       "      <td>Cough Medicine</td>\n",
       "      <td>If you are looking for the secret ingredient i...</td>\n",
       "    </tr>\n",
       "    <tr>\n",
       "      <th>4</th>\n",
       "      <td>5</td>\n",
       "      <td>B006K2ZZ7K</td>\n",
       "      <td>A1UQRSCLF8GW1T</td>\n",
       "      <td>Michael D. Bigham \"M. Wassir\"</td>\n",
       "      <td>0</td>\n",
       "      <td>0</td>\n",
       "      <td>5</td>\n",
       "      <td>1350777600</td>\n",
       "      <td>Great taffy</td>\n",
       "      <td>Great taffy at a great price.  There was a wid...</td>\n",
       "    </tr>\n",
       "  </tbody>\n",
       "</table>\n",
       "</div>"
      ],
      "text/plain": [
       "   Id   ProductId          UserId                      ProfileName  \\\n",
       "0   1  B001E4KFG0  A3SGXH7AUHU8GW                       delmartian   \n",
       "1   2  B00813GRG4  A1D87F6ZCVE5NK                           dll pa   \n",
       "2   3  B000LQOCH0   ABXLMWJIXXAIN  Natalia Corres \"Natalia Corres\"   \n",
       "3   4  B000UA0QIQ  A395BORC6FGVXV                             Karl   \n",
       "4   5  B006K2ZZ7K  A1UQRSCLF8GW1T    Michael D. Bigham \"M. Wassir\"   \n",
       "\n",
       "   HelpfulnessNumerator  HelpfulnessDenominator  Score        Time  \\\n",
       "0                     1                       1      5  1303862400   \n",
       "1                     0                       0      1  1346976000   \n",
       "2                     1                       1      4  1219017600   \n",
       "3                     3                       3      2  1307923200   \n",
       "4                     0                       0      5  1350777600   \n",
       "\n",
       "                 Summary                                               Text  \n",
       "0  Good Quality Dog Food  I have bought several of the Vitality canned d...  \n",
       "1      Not as Advertised  Product arrived labeled as Jumbo Salted Peanut...  \n",
       "2  \"Delight\" says it all  This is a confection that has been around a fe...  \n",
       "3         Cough Medicine  If you are looking for the secret ingredient i...  \n",
       "4            Great taffy  Great taffy at a great price.  There was a wid...  "
      ]
     },
     "execution_count": 3,
     "metadata": {},
     "output_type": "execute_result"
    }
   ],
   "source": [
    "amazon_foodreview.head()"
   ]
  },
  {
   "cell_type": "code",
   "execution_count": 4,
   "id": "a61b1405",
   "metadata": {},
   "outputs": [
    {
     "data": {
      "text/plain": [
       "Index(['Id', 'ProductId', 'UserId', 'ProfileName', 'HelpfulnessNumerator',\n",
       "       'HelpfulnessDenominator', 'Score', 'Time', 'Summary', 'Text'],\n",
       "      dtype='object')"
      ]
     },
     "execution_count": 4,
     "metadata": {},
     "output_type": "execute_result"
    }
   ],
   "source": [
    "amazon_foodreview.columns"
   ]
  },
  {
   "cell_type": "code",
   "execution_count": 5,
   "id": "3c28c55e",
   "metadata": {},
   "outputs": [],
   "source": [
    "amazon_foodreview=amazon_foodreview.drop(columns={'Id', 'ProductId', 'UserId', 'ProfileName', 'HelpfulnessNumerator',\n",
    "       'HelpfulnessDenominator','Time', 'Summary'},axis=1)"
   ]
  },
  {
   "cell_type": "code",
   "execution_count": 6,
   "id": "aeed0c16",
   "metadata": {},
   "outputs": [
    {
     "data": {
      "text/plain": [
       "5    363122\n",
       "4     80655\n",
       "1     52268\n",
       "3     42640\n",
       "2     29769\n",
       "Name: Score, dtype: int64"
      ]
     },
     "execution_count": 6,
     "metadata": {},
     "output_type": "execute_result"
    }
   ],
   "source": [
    "amazon_foodreview.Score.value_counts()"
   ]
  },
  {
   "cell_type": "code",
   "execution_count": 7,
   "id": "1670ed7f",
   "metadata": {},
   "outputs": [],
   "source": [
    "amazon_foodreview.Score.replace({2:1,3:2,4:3,5:3},inplace=True)"
   ]
  },
  {
   "cell_type": "code",
   "execution_count": 8,
   "id": "4a74d2fe",
   "metadata": {},
   "outputs": [
    {
     "data": {
      "text/html": [
       "<div>\n",
       "<style scoped>\n",
       "    .dataframe tbody tr th:only-of-type {\n",
       "        vertical-align: middle;\n",
       "    }\n",
       "\n",
       "    .dataframe tbody tr th {\n",
       "        vertical-align: top;\n",
       "    }\n",
       "\n",
       "    .dataframe thead th {\n",
       "        text-align: right;\n",
       "    }\n",
       "</style>\n",
       "<table border=\"1\" class=\"dataframe\">\n",
       "  <thead>\n",
       "    <tr style=\"text-align: right;\">\n",
       "      <th></th>\n",
       "      <th>Score</th>\n",
       "      <th>Text</th>\n",
       "    </tr>\n",
       "  </thead>\n",
       "  <tbody>\n",
       "    <tr>\n",
       "      <th>0</th>\n",
       "      <td>3</td>\n",
       "      <td>I have bought several of the Vitality canned d...</td>\n",
       "    </tr>\n",
       "    <tr>\n",
       "      <th>1</th>\n",
       "      <td>1</td>\n",
       "      <td>Product arrived labeled as Jumbo Salted Peanut...</td>\n",
       "    </tr>\n",
       "    <tr>\n",
       "      <th>2</th>\n",
       "      <td>3</td>\n",
       "      <td>This is a confection that has been around a fe...</td>\n",
       "    </tr>\n",
       "    <tr>\n",
       "      <th>3</th>\n",
       "      <td>1</td>\n",
       "      <td>If you are looking for the secret ingredient i...</td>\n",
       "    </tr>\n",
       "    <tr>\n",
       "      <th>4</th>\n",
       "      <td>3</td>\n",
       "      <td>Great taffy at a great price.  There was a wid...</td>\n",
       "    </tr>\n",
       "  </tbody>\n",
       "</table>\n",
       "</div>"
      ],
      "text/plain": [
       "   Score                                               Text\n",
       "0      3  I have bought several of the Vitality canned d...\n",
       "1      1  Product arrived labeled as Jumbo Salted Peanut...\n",
       "2      3  This is a confection that has been around a fe...\n",
       "3      1  If you are looking for the secret ingredient i...\n",
       "4      3  Great taffy at a great price.  There was a wid..."
      ]
     },
     "execution_count": 8,
     "metadata": {},
     "output_type": "execute_result"
    }
   ],
   "source": [
    "amazon_foodreview.head()"
   ]
  },
  {
   "cell_type": "code",
   "execution_count": 9,
   "id": "003b8dc2",
   "metadata": {},
   "outputs": [],
   "source": [
    "amazon_foodreview_x = amazon_foodreview.iloc[ : ,1]\n",
    "amazon_foodreview_y = amazon_foodreview.iloc[ : ,0]"
   ]
  },
  {
   "cell_type": "code",
   "execution_count": 10,
   "id": "844b87ca",
   "metadata": {},
   "outputs": [],
   "source": [
    "from sklearn.model_selection import train_test_split\n",
    "\n",
    "train_x , test_x , train_y , test_y = train_test_split( amazon_foodreview_x , amazon_foodreview_y , test_size= 0.2) "
   ]
  },
  {
   "cell_type": "code",
   "execution_count": 11,
   "id": "3ac25aed",
   "metadata": {},
   "outputs": [],
   "source": [
    "train_y  = to_categorical( train_y)\n",
    "test_y   = to_categorical(test_y)"
   ]
  },
  {
   "cell_type": "code",
   "execution_count": 12,
   "id": "886fcc44",
   "metadata": {},
   "outputs": [
    {
     "data": {
      "text/plain": [
       "(454763, 4)"
      ]
     },
     "execution_count": 12,
     "metadata": {},
     "output_type": "execute_result"
    }
   ],
   "source": [
    "train_y.shape"
   ]
  },
  {
   "cell_type": "code",
   "execution_count": 13,
   "id": "bc51ea58",
   "metadata": {},
   "outputs": [],
   "source": [
    "train_y=train_y[:,1:]\n",
    "test_y=test_y[:,1:]"
   ]
  },
  {
   "cell_type": "code",
   "execution_count": 14,
   "id": "e3d39052",
   "metadata": {},
   "outputs": [
    {
     "data": {
      "text/plain": [
       "(113691, 3)"
      ]
     },
     "execution_count": 14,
     "metadata": {},
     "output_type": "execute_result"
    }
   ],
   "source": [
    "test_y.shape"
   ]
  },
  {
   "cell_type": "code",
   "execution_count": 15,
   "id": "de6c87a8",
   "metadata": {},
   "outputs": [],
   "source": [
    "max_num_words = 20000    ## How many words do we consider from the entire CORPUS\n",
    "seq_len = 100  ## How many tokens ( words to consider the each documnet / messages)\n",
    "embedding_size = 200  ## vector lengths of each word"
   ]
  },
  {
   "cell_type": "code",
   "execution_count": 16,
   "id": "37736ef8",
   "metadata": {},
   "outputs": [],
   "source": [
    "from keras.preprocessing.text import Tokenizer  # is used to tokinization ( it gives number to each and every words. )\n",
    "from keras.preprocessing.sequence import pad_sequences\n",
    "from tensorflow.keras.optimizers import Adam"
   ]
  },
  {
   "cell_type": "code",
   "execution_count": 17,
   "id": "832d2d9d",
   "metadata": {},
   "outputs": [],
   "source": [
    "tokenizer = Tokenizer(num_words = max_num_words)\n",
    "# tokenizer.fit_on_texts(amazon_foodreview.Text)\n",
    "train_x = tokenizer.texts_to_sequences(train_x) # will convert the text to sequences of IDs\n",
    "train_x = pad_sequences(train_x , maxlen = seq_len)"
   ]
  },
  {
   "cell_type": "code",
   "execution_count": 22,
   "id": "f7a2b57e",
   "metadata": {},
   "outputs": [
    {
     "data": {
      "text/plain": [
       "array([0, 0, 0, 0, 0, 0, 0, 0, 0, 0, 0, 0, 0, 0, 0, 0, 0, 0, 0, 0, 0, 0,\n",
       "       0, 0, 0, 0, 0, 0, 0, 0, 0, 0, 0, 0, 0, 0, 0, 0, 0, 0, 0, 0, 0, 0,\n",
       "       0, 0, 0, 0, 0, 0, 0, 0, 0, 0, 0, 0, 0, 0, 0, 0, 0, 0, 0, 0, 0, 0,\n",
       "       0, 0, 0, 0, 0, 0, 0, 0, 0, 0, 0, 0, 0, 0, 0, 0, 0, 0, 0, 0, 0, 0,\n",
       "       0, 0, 0, 0, 0, 0, 0, 0, 0, 0, 0, 0])"
      ]
     },
     "execution_count": 22,
     "metadata": {},
     "output_type": "execute_result"
    }
   ],
   "source": [
    "train_x[67]"
   ]
  },
  {
   "cell_type": "code",
   "execution_count": 18,
   "id": "2921970a",
   "metadata": {},
   "outputs": [],
   "source": [
    "test_x  =  tokenizer.texts_to_sequences(test_x)\n",
    "test_x  =  pad_sequences(test_x , maxlen = seq_len)"
   ]
  },
  {
   "cell_type": "code",
   "execution_count": 23,
   "id": "bc3a24be",
   "metadata": {},
   "outputs": [
    {
     "data": {
      "text/plain": [
       "array([0, 0, 0, 0, 0, 0, 0, 0, 0, 0, 0, 0, 0, 0, 0, 0, 0, 0, 0, 0, 0, 0,\n",
       "       0, 0, 0, 0, 0, 0, 0, 0, 0, 0, 0, 0, 0, 0, 0, 0, 0, 0, 0, 0, 0, 0,\n",
       "       0, 0, 0, 0, 0, 0, 0, 0, 0, 0, 0, 0, 0, 0, 0, 0, 0, 0, 0, 0, 0, 0,\n",
       "       0, 0, 0, 0, 0, 0, 0, 0, 0, 0, 0, 0, 0, 0, 0, 0, 0, 0, 0, 0, 0, 0,\n",
       "       0, 0, 0, 0, 0, 0, 0, 0, 0, 0, 0, 0])"
      ]
     },
     "execution_count": 23,
     "metadata": {},
     "output_type": "execute_result"
    }
   ],
   "source": [
    "test_x[456]"
   ]
  },
  {
   "cell_type": "code",
   "execution_count": 26,
   "id": "16eed2f1",
   "metadata": {},
   "outputs": [
    {
     "data": {
      "text/plain": [
       "array([0, 0, 0, 0, 0, 0, 0, 0, 0, 0, 0, 0, 0, 0, 0, 0, 0, 0, 0, 0, 0, 0,\n",
       "       0, 0, 0, 0, 0, 0, 0, 0, 0, 0, 0, 0, 0, 0, 0, 0, 0, 0, 0, 0, 0, 0,\n",
       "       0, 0, 0, 0, 0, 0, 0, 0, 0, 0, 0, 0, 0, 0, 0, 0, 0, 0, 0, 0, 0, 0,\n",
       "       0, 0, 0, 0, 0, 0, 0, 0, 0, 0, 0, 0, 0, 0, 0, 0, 0, 0, 0, 0, 0, 0,\n",
       "       0, 0, 0, 0, 0, 0, 0, 0, 0, 0, 0, 0])"
      ]
     },
     "execution_count": 26,
     "metadata": {},
     "output_type": "execute_result"
    }
   ],
   "source": [
    "train_x[348]"
   ]
  },
  {
   "cell_type": "code",
   "execution_count": 24,
   "id": "51394fec",
   "metadata": {},
   "outputs": [],
   "source": [
    "model = Sequential()  # iniitialize the network\n",
    "model.add(Embedding(input_dim = max_num_words,    \n",
    "                   input_length = seq_len,\n",
    "                    output_dim = embedding_size))"
   ]
  },
  {
   "cell_type": "code",
   "execution_count": 25,
   "id": "ec07cced",
   "metadata": {},
   "outputs": [
    {
     "name": "stderr",
     "output_type": "stream",
     "text": [
      "C:\\Users\\Priti\\anaconda3\\lib\\site-packages\\keras\\optimizer_v2\\adam.py:105: UserWarning: The `lr` argument is deprecated, use `learning_rate` instead.\n",
      "  super(Adam, self).__init__(name, **kwargs)\n"
     ]
    }
   ],
   "source": [
    "model.add(LSTM(5)) \n",
    "model.add(Dense(3 , activation  = 'softmax'))  # this 2 bcoz u have 2 level in target variable\n",
    "\n",
    "\n",
    "\n",
    "adam = Adam(lr = .001)\n",
    "\n",
    "\n",
    "model.compile(optimizer= 'adam' , loss = 'categorical_crossentropy' , metrics = ['accuracy'])"
   ]
  },
  {
   "cell_type": "code",
   "execution_count": 50,
   "id": "277af9a4",
   "metadata": {},
   "outputs": [
    {
     "name": "stdout",
     "output_type": "stream",
     "text": [
      "Epoch 1/10\n",
      "1456/1456 [==============================] - 187s 128ms/step - loss: 0.3851 - accuracy: 0.8592 - val_loss: 0.3379 - val_accuracy: 0.8772\n",
      "Epoch 2/10\n",
      "1456/1456 [==============================] - 179s 123ms/step - loss: 0.2967 - accuracy: 0.8920 - val_loss: 0.3120 - val_accuracy: 0.8885\n",
      "Epoch 3/10\n",
      "1456/1456 [==============================] - 178s 122ms/step - loss: 0.2478 - accuracy: 0.9108 - val_loss: 0.2987 - val_accuracy: 0.8943\n",
      "Epoch 4/10\n",
      "1456/1456 [==============================] - 170s 117ms/step - loss: 0.2133 - accuracy: 0.9239 - val_loss: 0.3010 - val_accuracy: 0.8961\n",
      "Epoch 5/10\n",
      "1456/1456 [==============================] - 168s 116ms/step - loss: 0.1885 - accuracy: 0.9336 - val_loss: 0.3124 - val_accuracy: 0.8956\n",
      "Epoch 6/10\n",
      "1456/1456 [==============================] - 165s 113ms/step - loss: 0.1695 - accuracy: 0.9408 - val_loss: 0.3263 - val_accuracy: 0.8971\n",
      "Epoch 7/10\n",
      "1456/1456 [==============================] - 166s 114ms/step - loss: 0.1528 - accuracy: 0.9473 - val_loss: 0.3307 - val_accuracy: 0.8992\n",
      "Epoch 8/10\n",
      "1456/1456 [==============================] - 164s 113ms/step - loss: 0.1399 - accuracy: 0.9521 - val_loss: 0.3458 - val_accuracy: 0.8980\n",
      "Epoch 9/10\n",
      "1456/1456 [==============================] - 167s 115ms/step - loss: 0.1298 - accuracy: 0.9558 - val_loss: 0.3573 - val_accuracy: 0.8977\n",
      "Epoch 10/10\n",
      "1456/1456 [==============================] - 164s 113ms/step - loss: 0.1214 - accuracy: 0.9592 - val_loss: 0.3872 - val_accuracy: 0.8921\n"
     ]
    },
    {
     "data": {
      "text/plain": [
       "<keras.callbacks.History at 0x2778ade2550>"
      ]
     },
     "execution_count": 50,
     "metadata": {},
     "output_type": "execute_result"
    }
   ],
   "source": [
    "model.fit(train_x , train_y , epochs = 10 , batch_size= 250, validation_split= .2)"
   ]
  },
  {
   "cell_type": "code",
   "execution_count": 58,
   "id": "d5f3422c",
   "metadata": {},
   "outputs": [
    {
     "data": {
      "text/plain": [
       "array([[9.9957753e-05, 7.2818319e-03, 9.9261826e-01],\n",
       "       [4.1360130e-05, 3.7261270e-04, 9.9958605e-01],\n",
       "       [1.9373246e-02, 9.6201159e-02, 8.8442564e-01],\n",
       "       ...,\n",
       "       [9.6349186e-01, 3.6039535e-02, 4.6858715e-04],\n",
       "       [9.5488018e-01, 3.7389665e-03, 4.1380867e-02],\n",
       "       [6.8667674e-01, 1.4911076e-01, 1.6421244e-01]], dtype=float32)"
      ]
     },
     "execution_count": 58,
     "metadata": {},
     "output_type": "execute_result"
    }
   ],
   "source": [
    "pred_test = model.predict(test_x)\n",
    "pred_test"
   ]
  },
  {
   "cell_type": "code",
   "execution_count": 59,
   "id": "8778daca",
   "metadata": {},
   "outputs": [
    {
     "data": {
      "text/plain": [
       "array([2, 2, 2, ..., 0, 0, 0], dtype=int64)"
      ]
     },
     "execution_count": 59,
     "metadata": {},
     "output_type": "execute_result"
    }
   ],
   "source": [
    "pred_test_c=np.argmax(pred_test,axis=1)\n",
    "pred_test_c"
   ]
  },
  {
   "cell_type": "code",
   "execution_count": 60,
   "id": "3e589f45",
   "metadata": {},
   "outputs": [
    {
     "data": {
      "text/plain": [
       "array([2, 2, 2, ..., 0, 1, 0], dtype=int64)"
      ]
     },
     "execution_count": 60,
     "metadata": {},
     "output_type": "execute_result"
    }
   ],
   "source": [
    "test_y_c=np.argmax(test_y,axis=1)\n",
    "test_y_c"
   ]
  },
  {
   "cell_type": "code",
   "execution_count": 61,
   "id": "b7f71d66",
   "metadata": {},
   "outputs": [],
   "source": [
    "from sklearn.metrics import *"
   ]
  },
  {
   "cell_type": "code",
   "execution_count": 62,
   "id": "1542f12c",
   "metadata": {},
   "outputs": [
    {
     "data": {
      "text/plain": [
       "array([[13284,  1352,  1808],\n",
       "       [ 1888,  4307,  2365],\n",
       "       [ 2310,  2731, 83646]], dtype=int64)"
      ]
     },
     "execution_count": 62,
     "metadata": {},
     "output_type": "execute_result"
    }
   ],
   "source": [
    "tab=confusion_matrix(test_y_c,pred_test_c)\n",
    "tab"
   ]
  },
  {
   "cell_type": "code",
   "execution_count": 63,
   "id": "593c1b05",
   "metadata": {},
   "outputs": [
    {
     "data": {
      "text/plain": [
       "89.04574680493619"
      ]
     },
     "execution_count": 63,
     "metadata": {},
     "output_type": "execute_result"
    }
   ],
   "source": [
    "acc=accuracy_score(test_y_c,pred_test_c)\n",
    "acc*100"
   ]
  },
  {
   "cell_type": "code",
   "execution_count": null,
   "id": "ce729847",
   "metadata": {},
   "outputs": [],
   "source": []
  }
 ],
 "metadata": {
  "kernelspec": {
   "display_name": "Python 3",
   "language": "python",
   "name": "python3"
  },
  "language_info": {
   "codemirror_mode": {
    "name": "ipython",
    "version": 3
   },
   "file_extension": ".py",
   "mimetype": "text/x-python",
   "name": "python",
   "nbconvert_exporter": "python",
   "pygments_lexer": "ipython3",
   "version": "3.8.8"
  }
 },
 "nbformat": 4,
 "nbformat_minor": 5
}
