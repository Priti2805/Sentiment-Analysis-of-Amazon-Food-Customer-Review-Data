{
 "cells": [
  {
   "cell_type": "markdown",
   "id": "07ce9b08",
   "metadata": {},
   "source": [
    "# Amazon Food Reviews"
   ]
  },
  {
   "cell_type": "code",
   "execution_count": 4,
   "id": "9a5c2d6f",
   "metadata": {},
   "outputs": [],
   "source": [
    "import pandas as pd"
   ]
  },
  {
   "cell_type": "code",
   "execution_count": 5,
   "id": "b281e5e1",
   "metadata": {},
   "outputs": [],
   "source": [
    "amazon_foodreview = pd.read_csv(r\"D:\\data set\\Amazon Food Reviews.csv\")"
   ]
  },
  {
   "cell_type": "code",
   "execution_count": 6,
   "id": "4241878f",
   "metadata": {},
   "outputs": [
    {
     "data": {
      "text/plain": [
       "(568454, 10)"
      ]
     },
     "execution_count": 6,
     "metadata": {},
     "output_type": "execute_result"
    }
   ],
   "source": [
    "amazon_foodreview.shape"
   ]
  },
  {
   "cell_type": "code",
   "execution_count": 7,
   "id": "a1493cd0",
   "metadata": {},
   "outputs": [],
   "source": [
    "amazon_foodreview=amazon_foodreview.sample(frac=1)"
   ]
  },
  {
   "cell_type": "code",
   "execution_count": 8,
   "id": "7eb87813",
   "metadata": {},
   "outputs": [
    {
     "data": {
      "text/html": [
       "<div>\n",
       "<style scoped>\n",
       "    .dataframe tbody tr th:only-of-type {\n",
       "        vertical-align: middle;\n",
       "    }\n",
       "\n",
       "    .dataframe tbody tr th {\n",
       "        vertical-align: top;\n",
       "    }\n",
       "\n",
       "    .dataframe thead th {\n",
       "        text-align: right;\n",
       "    }\n",
       "</style>\n",
       "<table border=\"1\" class=\"dataframe\">\n",
       "  <thead>\n",
       "    <tr style=\"text-align: right;\">\n",
       "      <th></th>\n",
       "      <th>Id</th>\n",
       "      <th>ProductId</th>\n",
       "      <th>UserId</th>\n",
       "      <th>ProfileName</th>\n",
       "      <th>HelpfulnessNumerator</th>\n",
       "      <th>HelpfulnessDenominator</th>\n",
       "      <th>Score</th>\n",
       "      <th>Time</th>\n",
       "      <th>Summary</th>\n",
       "      <th>Text</th>\n",
       "    </tr>\n",
       "  </thead>\n",
       "  <tbody>\n",
       "    <tr>\n",
       "      <th>403141</th>\n",
       "      <td>403142</td>\n",
       "      <td>B002ANABN6</td>\n",
       "      <td>A2QJF1B00I7BT7</td>\n",
       "      <td>iluvadeal</td>\n",
       "      <td>0</td>\n",
       "      <td>0</td>\n",
       "      <td>5</td>\n",
       "      <td>1299110400</td>\n",
       "      <td>My cats love it!</td>\n",
       "      <td>It's great to find a grain free product that i...</td>\n",
       "    </tr>\n",
       "    <tr>\n",
       "      <th>452365</th>\n",
       "      <td>452366</td>\n",
       "      <td>B001ELL68Y</td>\n",
       "      <td>A1DH4TTWTG9ZJL</td>\n",
       "      <td>S. Awajuk</td>\n",
       "      <td>0</td>\n",
       "      <td>0</td>\n",
       "      <td>2</td>\n",
       "      <td>1296259200</td>\n",
       "      <td>Tully's Kona</td>\n",
       "      <td>My husband and I love the other blends of Tull...</td>\n",
       "    </tr>\n",
       "    <tr>\n",
       "      <th>425204</th>\n",
       "      <td>425205</td>\n",
       "      <td>B006H32VYC</td>\n",
       "      <td>A3IKZU52IAXVI9</td>\n",
       "      <td>C. H. Walker</td>\n",
       "      <td>1</td>\n",
       "      <td>1</td>\n",
       "      <td>5</td>\n",
       "      <td>1190160000</td>\n",
       "      <td>Tasty and Good for You!</td>\n",
       "      <td>This is the perfect morning perk me up.  The t...</td>\n",
       "    </tr>\n",
       "    <tr>\n",
       "      <th>247769</th>\n",
       "      <td>247770</td>\n",
       "      <td>B0015Q8VAE</td>\n",
       "      <td>A2VC58DBBKPKEZ</td>\n",
       "      <td>Hannah R. Kuhn</td>\n",
       "      <td>0</td>\n",
       "      <td>0</td>\n",
       "      <td>5</td>\n",
       "      <td>1329955200</td>\n",
       "      <td>Best Cereal</td>\n",
       "      <td>I've been eating Swiss Muesli for over 30 year...</td>\n",
       "    </tr>\n",
       "    <tr>\n",
       "      <th>395567</th>\n",
       "      <td>395568</td>\n",
       "      <td>B0006ZN4WU</td>\n",
       "      <td>A1BU9GLN6UEFG1</td>\n",
       "      <td>Gloria</td>\n",
       "      <td>12</td>\n",
       "      <td>13</td>\n",
       "      <td>5</td>\n",
       "      <td>1154649600</td>\n",
       "      <td>SUPER FAST SERVICE-HONEYVILLE GRAIN INC is a g...</td>\n",
       "      <td>Recently on a new diet (that works) - Cannot e...</td>\n",
       "    </tr>\n",
       "  </tbody>\n",
       "</table>\n",
       "</div>"
      ],
      "text/plain": [
       "            Id   ProductId          UserId     ProfileName  \\\n",
       "403141  403142  B002ANABN6  A2QJF1B00I7BT7       iluvadeal   \n",
       "452365  452366  B001ELL68Y  A1DH4TTWTG9ZJL       S. Awajuk   \n",
       "425204  425205  B006H32VYC  A3IKZU52IAXVI9    C. H. Walker   \n",
       "247769  247770  B0015Q8VAE  A2VC58DBBKPKEZ  Hannah R. Kuhn   \n",
       "395567  395568  B0006ZN4WU  A1BU9GLN6UEFG1          Gloria   \n",
       "\n",
       "        HelpfulnessNumerator  HelpfulnessDenominator  Score        Time  \\\n",
       "403141                     0                       0      5  1299110400   \n",
       "452365                     0                       0      2  1296259200   \n",
       "425204                     1                       1      5  1190160000   \n",
       "247769                     0                       0      5  1329955200   \n",
       "395567                    12                      13      5  1154649600   \n",
       "\n",
       "                                                  Summary  \\\n",
       "403141                                   My cats love it!   \n",
       "452365                                       Tully's Kona   \n",
       "425204                            Tasty and Good for You!   \n",
       "247769                                        Best Cereal   \n",
       "395567  SUPER FAST SERVICE-HONEYVILLE GRAIN INC is a g...   \n",
       "\n",
       "                                                     Text  \n",
       "403141  It's great to find a grain free product that i...  \n",
       "452365  My husband and I love the other blends of Tull...  \n",
       "425204  This is the perfect morning perk me up.  The t...  \n",
       "247769  I've been eating Swiss Muesli for over 30 year...  \n",
       "395567  Recently on a new diet (that works) - Cannot e...  "
      ]
     },
     "execution_count": 8,
     "metadata": {},
     "output_type": "execute_result"
    }
   ],
   "source": [
    "amazon_foodreview.head()"
   ]
  },
  {
   "cell_type": "code",
   "execution_count": 9,
   "id": "4a0ac7ea",
   "metadata": {},
   "outputs": [],
   "source": [
    "amazon_foodreview=amazon_foodreview.iloc[0:350000,:]"
   ]
  },
  {
   "cell_type": "code",
   "execution_count": 10,
   "id": "88844d89",
   "metadata": {},
   "outputs": [
    {
     "data": {
      "text/plain": [
       "(350000, 10)"
      ]
     },
     "execution_count": 10,
     "metadata": {},
     "output_type": "execute_result"
    }
   ],
   "source": [
    "amazon_foodreview.shape"
   ]
  },
  {
   "cell_type": "code",
   "execution_count": 11,
   "id": "e3a515bc",
   "metadata": {},
   "outputs": [
    {
     "data": {
      "text/html": [
       "<div>\n",
       "<style scoped>\n",
       "    .dataframe tbody tr th:only-of-type {\n",
       "        vertical-align: middle;\n",
       "    }\n",
       "\n",
       "    .dataframe tbody tr th {\n",
       "        vertical-align: top;\n",
       "    }\n",
       "\n",
       "    .dataframe thead th {\n",
       "        text-align: right;\n",
       "    }\n",
       "</style>\n",
       "<table border=\"1\" class=\"dataframe\">\n",
       "  <thead>\n",
       "    <tr style=\"text-align: right;\">\n",
       "      <th></th>\n",
       "      <th>Id</th>\n",
       "      <th>ProductId</th>\n",
       "      <th>UserId</th>\n",
       "      <th>ProfileName</th>\n",
       "      <th>HelpfulnessNumerator</th>\n",
       "      <th>HelpfulnessDenominator</th>\n",
       "      <th>Score</th>\n",
       "      <th>Time</th>\n",
       "      <th>Summary</th>\n",
       "      <th>Text</th>\n",
       "    </tr>\n",
       "  </thead>\n",
       "  <tbody>\n",
       "    <tr>\n",
       "      <th>403141</th>\n",
       "      <td>403142</td>\n",
       "      <td>B002ANABN6</td>\n",
       "      <td>A2QJF1B00I7BT7</td>\n",
       "      <td>iluvadeal</td>\n",
       "      <td>0</td>\n",
       "      <td>0</td>\n",
       "      <td>5</td>\n",
       "      <td>1299110400</td>\n",
       "      <td>My cats love it!</td>\n",
       "      <td>It's great to find a grain free product that i...</td>\n",
       "    </tr>\n",
       "    <tr>\n",
       "      <th>452365</th>\n",
       "      <td>452366</td>\n",
       "      <td>B001ELL68Y</td>\n",
       "      <td>A1DH4TTWTG9ZJL</td>\n",
       "      <td>S. Awajuk</td>\n",
       "      <td>0</td>\n",
       "      <td>0</td>\n",
       "      <td>2</td>\n",
       "      <td>1296259200</td>\n",
       "      <td>Tully's Kona</td>\n",
       "      <td>My husband and I love the other blends of Tull...</td>\n",
       "    </tr>\n",
       "    <tr>\n",
       "      <th>425204</th>\n",
       "      <td>425205</td>\n",
       "      <td>B006H32VYC</td>\n",
       "      <td>A3IKZU52IAXVI9</td>\n",
       "      <td>C. H. Walker</td>\n",
       "      <td>1</td>\n",
       "      <td>1</td>\n",
       "      <td>5</td>\n",
       "      <td>1190160000</td>\n",
       "      <td>Tasty and Good for You!</td>\n",
       "      <td>This is the perfect morning perk me up.  The t...</td>\n",
       "    </tr>\n",
       "    <tr>\n",
       "      <th>247769</th>\n",
       "      <td>247770</td>\n",
       "      <td>B0015Q8VAE</td>\n",
       "      <td>A2VC58DBBKPKEZ</td>\n",
       "      <td>Hannah R. Kuhn</td>\n",
       "      <td>0</td>\n",
       "      <td>0</td>\n",
       "      <td>5</td>\n",
       "      <td>1329955200</td>\n",
       "      <td>Best Cereal</td>\n",
       "      <td>I've been eating Swiss Muesli for over 30 year...</td>\n",
       "    </tr>\n",
       "    <tr>\n",
       "      <th>395567</th>\n",
       "      <td>395568</td>\n",
       "      <td>B0006ZN4WU</td>\n",
       "      <td>A1BU9GLN6UEFG1</td>\n",
       "      <td>Gloria</td>\n",
       "      <td>12</td>\n",
       "      <td>13</td>\n",
       "      <td>5</td>\n",
       "      <td>1154649600</td>\n",
       "      <td>SUPER FAST SERVICE-HONEYVILLE GRAIN INC is a g...</td>\n",
       "      <td>Recently on a new diet (that works) - Cannot e...</td>\n",
       "    </tr>\n",
       "  </tbody>\n",
       "</table>\n",
       "</div>"
      ],
      "text/plain": [
       "            Id   ProductId          UserId     ProfileName  \\\n",
       "403141  403142  B002ANABN6  A2QJF1B00I7BT7       iluvadeal   \n",
       "452365  452366  B001ELL68Y  A1DH4TTWTG9ZJL       S. Awajuk   \n",
       "425204  425205  B006H32VYC  A3IKZU52IAXVI9    C. H. Walker   \n",
       "247769  247770  B0015Q8VAE  A2VC58DBBKPKEZ  Hannah R. Kuhn   \n",
       "395567  395568  B0006ZN4WU  A1BU9GLN6UEFG1          Gloria   \n",
       "\n",
       "        HelpfulnessNumerator  HelpfulnessDenominator  Score        Time  \\\n",
       "403141                     0                       0      5  1299110400   \n",
       "452365                     0                       0      2  1296259200   \n",
       "425204                     1                       1      5  1190160000   \n",
       "247769                     0                       0      5  1329955200   \n",
       "395567                    12                      13      5  1154649600   \n",
       "\n",
       "                                                  Summary  \\\n",
       "403141                                   My cats love it!   \n",
       "452365                                       Tully's Kona   \n",
       "425204                            Tasty and Good for You!   \n",
       "247769                                        Best Cereal   \n",
       "395567  SUPER FAST SERVICE-HONEYVILLE GRAIN INC is a g...   \n",
       "\n",
       "                                                     Text  \n",
       "403141  It's great to find a grain free product that i...  \n",
       "452365  My husband and I love the other blends of Tull...  \n",
       "425204  This is the perfect morning perk me up.  The t...  \n",
       "247769  I've been eating Swiss Muesli for over 30 year...  \n",
       "395567  Recently on a new diet (that works) - Cannot e...  "
      ]
     },
     "execution_count": 11,
     "metadata": {},
     "output_type": "execute_result"
    }
   ],
   "source": [
    "amazon_foodreview.head()"
   ]
  },
  {
   "cell_type": "code",
   "execution_count": 12,
   "id": "ce020251",
   "metadata": {},
   "outputs": [
    {
     "data": {
      "text/plain": [
       "Index(['Id', 'ProductId', 'UserId', 'ProfileName', 'HelpfulnessNumerator',\n",
       "       'HelpfulnessDenominator', 'Score', 'Time', 'Summary', 'Text'],\n",
       "      dtype='object')"
      ]
     },
     "execution_count": 12,
     "metadata": {},
     "output_type": "execute_result"
    }
   ],
   "source": [
    "amazon_foodreview.columns"
   ]
  },
  {
   "cell_type": "code",
   "execution_count": 13,
   "id": "f2709130",
   "metadata": {},
   "outputs": [],
   "source": [
    "amazon_foodreview=amazon_foodreview.drop(columns={'Id', 'ProductId', 'UserId', 'ProfileName', 'HelpfulnessNumerator',\n",
    "       'HelpfulnessDenominator','Time', 'Summary'},axis=1)"
   ]
  },
  {
   "cell_type": "code",
   "execution_count": 14,
   "id": "93241acc",
   "metadata": {},
   "outputs": [
    {
     "data": {
      "text/html": [
       "<div>\n",
       "<style scoped>\n",
       "    .dataframe tbody tr th:only-of-type {\n",
       "        vertical-align: middle;\n",
       "    }\n",
       "\n",
       "    .dataframe tbody tr th {\n",
       "        vertical-align: top;\n",
       "    }\n",
       "\n",
       "    .dataframe thead th {\n",
       "        text-align: right;\n",
       "    }\n",
       "</style>\n",
       "<table border=\"1\" class=\"dataframe\">\n",
       "  <thead>\n",
       "    <tr style=\"text-align: right;\">\n",
       "      <th></th>\n",
       "      <th>Score</th>\n",
       "      <th>Text</th>\n",
       "    </tr>\n",
       "  </thead>\n",
       "  <tbody>\n",
       "    <tr>\n",
       "      <th>403141</th>\n",
       "      <td>5</td>\n",
       "      <td>It's great to find a grain free product that i...</td>\n",
       "    </tr>\n",
       "    <tr>\n",
       "      <th>452365</th>\n",
       "      <td>2</td>\n",
       "      <td>My husband and I love the other blends of Tull...</td>\n",
       "    </tr>\n",
       "    <tr>\n",
       "      <th>425204</th>\n",
       "      <td>5</td>\n",
       "      <td>This is the perfect morning perk me up.  The t...</td>\n",
       "    </tr>\n",
       "    <tr>\n",
       "      <th>247769</th>\n",
       "      <td>5</td>\n",
       "      <td>I've been eating Swiss Muesli for over 30 year...</td>\n",
       "    </tr>\n",
       "    <tr>\n",
       "      <th>395567</th>\n",
       "      <td>5</td>\n",
       "      <td>Recently on a new diet (that works) - Cannot e...</td>\n",
       "    </tr>\n",
       "  </tbody>\n",
       "</table>\n",
       "</div>"
      ],
      "text/plain": [
       "        Score                                               Text\n",
       "403141      5  It's great to find a grain free product that i...\n",
       "452365      2  My husband and I love the other blends of Tull...\n",
       "425204      5  This is the perfect morning perk me up.  The t...\n",
       "247769      5  I've been eating Swiss Muesli for over 30 year...\n",
       "395567      5  Recently on a new diet (that works) - Cannot e..."
      ]
     },
     "execution_count": 14,
     "metadata": {},
     "output_type": "execute_result"
    }
   ],
   "source": [
    "amazon_foodreview.head()"
   ]
  },
  {
   "cell_type": "code",
   "execution_count": 15,
   "id": "ba91990b",
   "metadata": {},
   "outputs": [
    {
     "data": {
      "text/plain": [
       "5    223358\n",
       "4     49632\n",
       "1     32243\n",
       "3     26272\n",
       "2     18495\n",
       "Name: Score, dtype: int64"
      ]
     },
     "execution_count": 15,
     "metadata": {},
     "output_type": "execute_result"
    }
   ],
   "source": [
    "amazon_foodreview.Score.value_counts()"
   ]
  },
  {
   "cell_type": "code",
   "execution_count": 16,
   "id": "742b2bba",
   "metadata": {},
   "outputs": [],
   "source": [
    "amazon_foodreview.Score.replace({2:1,3:2,4:3,5:3},inplace=True)"
   ]
  },
  {
   "cell_type": "code",
   "execution_count": 17,
   "id": "21587f25",
   "metadata": {},
   "outputs": [
    {
     "data": {
      "text/plain": [
       "3    272990\n",
       "1     50738\n",
       "2     26272\n",
       "Name: Score, dtype: int64"
      ]
     },
     "execution_count": 17,
     "metadata": {},
     "output_type": "execute_result"
    }
   ],
   "source": [
    "amazon_foodreview.Score.value_counts()"
   ]
  },
  {
   "cell_type": "code",
   "execution_count": 18,
   "id": "ff4ba36c",
   "metadata": {},
   "outputs": [],
   "source": [
    "import nltk\n",
    "from nltk.corpus import stopwords\n",
    "import string"
   ]
  },
  {
   "cell_type": "code",
   "execution_count": 19,
   "id": "1d6ffcdf",
   "metadata": {},
   "outputs": [],
   "source": [
    "import spacy\n",
    "import en_core_web_sm\n",
    "lang=spacy.load('en_core_web_sm')"
   ]
  },
  {
   "cell_type": "code",
   "execution_count": 20,
   "id": "bf9160be",
   "metadata": {},
   "outputs": [],
   "source": [
    "def text_process(mess):            ### creating a function\n",
    "    \"\"\"                                                        ## a docstring\n",
    "    1. remove the punctuation\n",
    "    2. remove the stopwords\n",
    "    3. return the list of clean textwords\n",
    "    \n",
    "    \"\"\"\n",
    "    nopunc = [char for char in mess if char  not in string.punctuation]\n",
    "    nopunc = \"\".join(nopunc)\n",
    "    \n",
    "    return [ word for word in nopunc.split() if word not in lang.Defaults.stop_words]\n"
   ]
  },
  {
   "cell_type": "code",
   "execution_count": 21,
   "id": "d9c66ca8",
   "metadata": {},
   "outputs": [],
   "source": [
    "amazon_foodreview.Text=amazon_foodreview.Text.str.lower()"
   ]
  },
  {
   "cell_type": "code",
   "execution_count": 22,
   "id": "6505ba55",
   "metadata": {},
   "outputs": [
    {
     "data": {
      "text/html": [
       "<div>\n",
       "<style scoped>\n",
       "    .dataframe tbody tr th:only-of-type {\n",
       "        vertical-align: middle;\n",
       "    }\n",
       "\n",
       "    .dataframe tbody tr th {\n",
       "        vertical-align: top;\n",
       "    }\n",
       "\n",
       "    .dataframe thead th {\n",
       "        text-align: right;\n",
       "    }\n",
       "</style>\n",
       "<table border=\"1\" class=\"dataframe\">\n",
       "  <thead>\n",
       "    <tr style=\"text-align: right;\">\n",
       "      <th></th>\n",
       "      <th>Score</th>\n",
       "      <th>Text</th>\n",
       "    </tr>\n",
       "  </thead>\n",
       "  <tbody>\n",
       "    <tr>\n",
       "      <th>403141</th>\n",
       "      <td>3</td>\n",
       "      <td>it's great to find a grain free product that i...</td>\n",
       "    </tr>\n",
       "    <tr>\n",
       "      <th>452365</th>\n",
       "      <td>1</td>\n",
       "      <td>my husband and i love the other blends of tull...</td>\n",
       "    </tr>\n",
       "    <tr>\n",
       "      <th>425204</th>\n",
       "      <td>3</td>\n",
       "      <td>this is the perfect morning perk me up.  the t...</td>\n",
       "    </tr>\n",
       "    <tr>\n",
       "      <th>247769</th>\n",
       "      <td>3</td>\n",
       "      <td>i've been eating swiss muesli for over 30 year...</td>\n",
       "    </tr>\n",
       "    <tr>\n",
       "      <th>395567</th>\n",
       "      <td>3</td>\n",
       "      <td>recently on a new diet (that works) - cannot e...</td>\n",
       "    </tr>\n",
       "    <tr>\n",
       "      <th>...</th>\n",
       "      <td>...</td>\n",
       "      <td>...</td>\n",
       "    </tr>\n",
       "    <tr>\n",
       "      <th>425307</th>\n",
       "      <td>3</td>\n",
       "      <td>this is a great gift item for a great price. i...</td>\n",
       "    </tr>\n",
       "    <tr>\n",
       "      <th>66357</th>\n",
       "      <td>3</td>\n",
       "      <td>this is the best drinking chocolate i have had...</td>\n",
       "    </tr>\n",
       "    <tr>\n",
       "      <th>338059</th>\n",
       "      <td>3</td>\n",
       "      <td>our cat goes bananas over these treats!  he wi...</td>\n",
       "    </tr>\n",
       "    <tr>\n",
       "      <th>22302</th>\n",
       "      <td>1</td>\n",
       "      <td>as an ex new yorker, i've had fond memories of...</td>\n",
       "    </tr>\n",
       "    <tr>\n",
       "      <th>348783</th>\n",
       "      <td>3</td>\n",
       "      <td>once upon a time, one of my friends and i woul...</td>\n",
       "    </tr>\n",
       "  </tbody>\n",
       "</table>\n",
       "<p>350000 rows × 2 columns</p>\n",
       "</div>"
      ],
      "text/plain": [
       "        Score                                               Text\n",
       "403141      3  it's great to find a grain free product that i...\n",
       "452365      1  my husband and i love the other blends of tull...\n",
       "425204      3  this is the perfect morning perk me up.  the t...\n",
       "247769      3  i've been eating swiss muesli for over 30 year...\n",
       "395567      3  recently on a new diet (that works) - cannot e...\n",
       "...       ...                                                ...\n",
       "425307      3  this is a great gift item for a great price. i...\n",
       "66357       3  this is the best drinking chocolate i have had...\n",
       "338059      3  our cat goes bananas over these treats!  he wi...\n",
       "22302       1  as an ex new yorker, i've had fond memories of...\n",
       "348783      3  once upon a time, one of my friends and i woul...\n",
       "\n",
       "[350000 rows x 2 columns]"
      ]
     },
     "execution_count": 22,
     "metadata": {},
     "output_type": "execute_result"
    }
   ],
   "source": [
    "amazon_foodreview"
   ]
  },
  {
   "cell_type": "code",
   "execution_count": 23,
   "id": "192dfb6f",
   "metadata": {},
   "outputs": [],
   "source": [
    "from sklearn.feature_extraction.text import CountVectorizer\n",
    "bow_transformer = CountVectorizer(analyzer=text_process).fit(amazon_foodreview['Text'])\n",
    "Text_bow = bow_transformer.transform(amazon_foodreview.Text)\n",
    "from sklearn.model_selection import train_test_split\n",
    "df_x_train,df_x_test,df_y_train,df_y_test = train_test_split(Text_bow,amazon_foodreview.Score ,test_size=.2)"
   ]
  },
  {
   "cell_type": "code",
   "execution_count": 24,
   "id": "4d3c4e7b",
   "metadata": {},
   "outputs": [
    {
     "name": "stdout",
     "output_type": "stream",
     "text": [
      "(280000, 185547)\n",
      "(280000,)\n",
      ">......<\n",
      "(70000, 185547)\n",
      "(70000,)\n"
     ]
    }
   ],
   "source": [
    "print(df_x_train.shape)\n",
    "print(df_y_train.shape)\n",
    "print(\">......<\")\n",
    "print(df_x_test.shape)\n",
    "print(df_y_test.shape)"
   ]
  },
  {
   "cell_type": "code",
   "execution_count": 25,
   "id": "0768e554",
   "metadata": {},
   "outputs": [
    {
     "data": {
      "text/plain": [
       "MultinomialNB()"
      ]
     },
     "execution_count": 25,
     "metadata": {},
     "output_type": "execute_result"
    }
   ],
   "source": [
    "from sklearn.naive_bayes import MultinomialNB\n",
    "nb = MultinomialNB()\n",
    "nb.fit(df_x_train,df_y_train)"
   ]
  },
  {
   "cell_type": "code",
   "execution_count": 26,
   "id": "c26fb8f6",
   "metadata": {},
   "outputs": [],
   "source": [
    "pred=nb.predict(df_x_test)"
   ]
  },
  {
   "cell_type": "code",
   "execution_count": 27,
   "id": "24db2625",
   "metadata": {},
   "outputs": [
    {
     "data": {
      "text/plain": [
       "array([[ 6349,   469,  3383],\n",
       "       [ 1024,  1024,  3237],\n",
       "       [ 1938,   944, 51632]], dtype=int64)"
      ]
     },
     "execution_count": 27,
     "metadata": {},
     "output_type": "execute_result"
    }
   ],
   "source": [
    "from sklearn.metrics import confusion_matrix\n",
    "tab=confusion_matrix(df_y_test,pred)\n",
    "tab"
   ]
  },
  {
   "cell_type": "code",
   "execution_count": 28,
   "id": "60320d7d",
   "metadata": {},
   "outputs": [
    {
     "data": {
      "text/plain": [
       "0.8429285714285715"
      ]
     },
     "execution_count": 28,
     "metadata": {},
     "output_type": "execute_result"
    }
   ],
   "source": [
    "from sklearn.metrics import accuracy_score\n",
    "accuracy_score(df_y_test,pred)"
   ]
  },
  {
   "cell_type": "code",
   "execution_count": 29,
   "id": "222f7a4b",
   "metadata": {},
   "outputs": [
    {
     "data": {
      "text/plain": [
       "array([[ 6541,   541,  3119],\n",
       "       [  752,  2280,  2253],\n",
       "       [ 2422,  1467, 50625]], dtype=int64)"
      ]
     },
     "execution_count": 29,
     "metadata": {},
     "output_type": "execute_result"
    }
   ],
   "source": [
    "from sklearn.tree import DecisionTreeClassifier \n",
    "dt=DecisionTreeClassifier()\n",
    "dt.fit(df_x_train,df_y_train)\n",
    "pred_dt=dt.predict(df_x_test)\n",
    "tab_dt=confusion_matrix(df_y_test,pred_dt)\n",
    "tab_dt\n"
   ]
  },
  {
   "cell_type": "code",
   "execution_count": 30,
   "id": "9f7b4132",
   "metadata": {},
   "outputs": [
    {
     "data": {
      "text/plain": [
       "0.8492285714285714"
      ]
     },
     "execution_count": 30,
     "metadata": {},
     "output_type": "execute_result"
    }
   ],
   "source": [
    "acc_dt=accuracy_score(df_y_test,pred_dt)\n",
    "acc_dt"
   ]
  },
  {
   "cell_type": "code",
   "execution_count": 31,
   "id": "3cfb724e",
   "metadata": {},
   "outputs": [
    {
     "data": {
      "text/plain": [
       "array([[ 5096,     8,  5097],\n",
       "       [  113,  1832,  3340],\n",
       "       [  121,     5, 54388]], dtype=int64)"
      ]
     },
     "execution_count": 31,
     "metadata": {},
     "output_type": "execute_result"
    }
   ],
   "source": [
    "from sklearn.ensemble import RandomForestClassifier\n",
    "rfc=RandomForestClassifier(n_estimators=50)\n",
    "rfc.fit(df_x_train,df_y_train)\n",
    "pred_rfc=rfc.predict(df_x_test)\n",
    "tab_rfc=confusion_matrix(df_y_test,pred_rfc)\n",
    "tab_rfc"
   ]
  },
  {
   "cell_type": "code",
   "execution_count": 32,
   "id": "cc3bb2d0",
   "metadata": {},
   "outputs": [
    {
     "data": {
      "text/plain": [
       "0.8492285714285714"
      ]
     },
     "execution_count": 32,
     "metadata": {},
     "output_type": "execute_result"
    }
   ],
   "source": [
    "acc_rfc=accuracy_score(df_y_test,pred_dt)\n",
    "acc_rfc"
   ]
  },
  {
   "cell_type": "code",
   "execution_count": 33,
   "id": "84b9d16c",
   "metadata": {},
   "outputs": [
    {
     "data": {
      "text/plain": [
       "array([[ 3459,   142,  6600],\n",
       "       [  672,   208,  4405],\n",
       "       [ 1171,   218, 53125]], dtype=int64)"
      ]
     },
     "execution_count": 33,
     "metadata": {},
     "output_type": "execute_result"
    }
   ],
   "source": [
    "from sklearn.ensemble import AdaBoostClassifier\n",
    "adb=AdaBoostClassifier()\n",
    "adb.fit(df_x_train,df_y_train)\n",
    "pred_adb=adb.predict(df_x_test)\n",
    "tab_abd=confusion_matrix(df_y_test,pred_adb)\n",
    "tab_abd"
   ]
  },
  {
   "cell_type": "code",
   "execution_count": 38,
   "id": "6f39b16f",
   "metadata": {},
   "outputs": [
    {
     "data": {
      "text/plain": [
       "0.8113142857142858"
      ]
     },
     "execution_count": 38,
     "metadata": {},
     "output_type": "execute_result"
    }
   ],
   "source": [
    "acc_abd=accuracy_score(df_y_test,pred_adb)\n",
    "acc_abd"
   ]
  },
  {
   "cell_type": "code",
   "execution_count": null,
   "id": "59871cc3",
   "metadata": {},
   "outputs": [],
   "source": [
    "from wordcloud import WordCloud \n",
    "import matplotlib.pyplot as plt\n"
   ]
  },
  {
   "cell_type": "code",
   "execution_count": null,
   "id": "78ab2a3b",
   "metadata": {},
   "outputs": [],
   "source": [
    "cloud  = WordCloud(stopwords = stopwords.words(\"english\"), max_words= 50).generate(str(amazon_foodreview['Text']) )\n",
    "plt.figure(figsize=(10 , 10)) \n",
    "plt.imshow(cloud)"
   ]
  },
  {
   "cell_type": "code",
   "execution_count": null,
   "id": "743e1886",
   "metadata": {},
   "outputs": [],
   "source": []
  },
  {
   "cell_type": "code",
   "execution_count": null,
   "id": "840f8ce5",
   "metadata": {},
   "outputs": [],
   "source": []
  }
 ],
 "metadata": {
  "kernelspec": {
   "display_name": "Python 3",
   "language": "python",
   "name": "python3"
  },
  "language_info": {
   "codemirror_mode": {
    "name": "ipython",
    "version": 3
   },
   "file_extension": ".py",
   "mimetype": "text/x-python",
   "name": "python",
   "nbconvert_exporter": "python",
   "pygments_lexer": "ipython3",
   "version": "3.8.8"
  }
 },
 "nbformat": 4,
 "nbformat_minor": 5
}
