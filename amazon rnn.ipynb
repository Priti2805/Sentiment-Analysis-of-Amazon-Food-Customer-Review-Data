{
 "cells": [
  {
   "cell_type": "code",
   "execution_count": 1,
   "id": "6072b895",
   "metadata": {},
   "outputs": [],
   "source": [
    "import pandas as pd\n",
    "import numpy as np \n",
    "from keras.layers import Dense , SimpleRNN , GRU , LSTM , Embedding\n",
    "from keras.models import Sequential\n",
    "from tensorflow.keras.utils import to_categorical"
   ]
  },
  {
   "cell_type": "code",
   "execution_count": 2,
   "id": "fb99d09e",
   "metadata": {},
   "outputs": [],
   "source": [
    "amazon = pd.read_table(r\"D:\\data set\\amazonreviews.tsv\")"
   ]
  },
  {
   "cell_type": "code",
   "execution_count": 3,
   "id": "96ec8187",
   "metadata": {},
   "outputs": [
    {
     "data": {
      "text/html": [
       "<div>\n",
       "<style scoped>\n",
       "    .dataframe tbody tr th:only-of-type {\n",
       "        vertical-align: middle;\n",
       "    }\n",
       "\n",
       "    .dataframe tbody tr th {\n",
       "        vertical-align: top;\n",
       "    }\n",
       "\n",
       "    .dataframe thead th {\n",
       "        text-align: right;\n",
       "    }\n",
       "</style>\n",
       "<table border=\"1\" class=\"dataframe\">\n",
       "  <thead>\n",
       "    <tr style=\"text-align: right;\">\n",
       "      <th></th>\n",
       "      <th>label</th>\n",
       "      <th>review</th>\n",
       "    </tr>\n",
       "  </thead>\n",
       "  <tbody>\n",
       "    <tr>\n",
       "      <th>0</th>\n",
       "      <td>pos</td>\n",
       "      <td>Stuning even for the non-gamer: This sound tra...</td>\n",
       "    </tr>\n",
       "    <tr>\n",
       "      <th>1</th>\n",
       "      <td>pos</td>\n",
       "      <td>The best soundtrack ever to anything.: I'm rea...</td>\n",
       "    </tr>\n",
       "    <tr>\n",
       "      <th>2</th>\n",
       "      <td>pos</td>\n",
       "      <td>Amazing!: This soundtrack is my favorite music...</td>\n",
       "    </tr>\n",
       "    <tr>\n",
       "      <th>3</th>\n",
       "      <td>pos</td>\n",
       "      <td>Excellent Soundtrack: I truly like this soundt...</td>\n",
       "    </tr>\n",
       "    <tr>\n",
       "      <th>4</th>\n",
       "      <td>pos</td>\n",
       "      <td>Remember, Pull Your Jaw Off The Floor After He...</td>\n",
       "    </tr>\n",
       "  </tbody>\n",
       "</table>\n",
       "</div>"
      ],
      "text/plain": [
       "  label                                             review\n",
       "0   pos  Stuning even for the non-gamer: This sound tra...\n",
       "1   pos  The best soundtrack ever to anything.: I'm rea...\n",
       "2   pos  Amazing!: This soundtrack is my favorite music...\n",
       "3   pos  Excellent Soundtrack: I truly like this soundt...\n",
       "4   pos  Remember, Pull Your Jaw Off The Floor After He..."
      ]
     },
     "execution_count": 3,
     "metadata": {},
     "output_type": "execute_result"
    }
   ],
   "source": [
    "amazon.head()"
   ]
  },
  {
   "cell_type": "code",
   "execution_count": 4,
   "id": "7319c2e2",
   "metadata": {},
   "outputs": [
    {
     "data": {
      "text/plain": [
       "neg    5097\n",
       "pos    4903\n",
       "Name: label, dtype: int64"
      ]
     },
     "execution_count": 4,
     "metadata": {},
     "output_type": "execute_result"
    }
   ],
   "source": [
    "amazon.label.value_counts()"
   ]
  },
  {
   "cell_type": "code",
   "execution_count": 5,
   "id": "1aa2a926",
   "metadata": {},
   "outputs": [],
   "source": [
    "amazon.replace( { \"label\"  : { \"pos\" : 1 , \"neg\" :0}} , inplace = True)"
   ]
  },
  {
   "cell_type": "code",
   "execution_count": 6,
   "id": "d05220ff",
   "metadata": {},
   "outputs": [],
   "source": [
    "amazon_x = amazon.iloc[ : ,1]\n",
    "amazon_y = amazon.iloc[ : ,0]"
   ]
  },
  {
   "cell_type": "code",
   "execution_count": 7,
   "id": "d3f62709",
   "metadata": {},
   "outputs": [],
   "source": [
    "from sklearn.model_selection import train_test_split\n",
    "\n",
    "train_x , test_x , train_y , test_y = train_test_split( amazon_x , amazon_y , test_size= 0.2) "
   ]
  },
  {
   "cell_type": "code",
   "execution_count": 8,
   "id": "98893949",
   "metadata": {},
   "outputs": [],
   "source": [
    "train_y  = to_categorical( train_y)\n",
    "test_y   = to_categorical(test_y)"
   ]
  },
  {
   "cell_type": "code",
   "execution_count": 9,
   "id": "b8c9ff39",
   "metadata": {},
   "outputs": [],
   "source": [
    "max_num_words = 20000    ## How many words do we consider from the entire CORPUS\n",
    "seq_len = 100  ## How many tokens ( words to consider the each documnet / messages)\n",
    "embedding_size = 200  ## vector lengths of each word"
   ]
  },
  {
   "cell_type": "code",
   "execution_count": 10,
   "id": "238c912b",
   "metadata": {},
   "outputs": [],
   "source": [
    "from keras.preprocessing.text import Tokenizer  # is used to tokinization ( it gives number to each and every words. )\n",
    "from keras.preprocessing.sequence import pad_sequences\n",
    "from tensorflow.keras.optimizers import Adam"
   ]
  },
  {
   "cell_type": "code",
   "execution_count": 11,
   "id": "b73ba199",
   "metadata": {},
   "outputs": [],
   "source": [
    "tokenizer = Tokenizer(num_words = max_num_words)\n",
    "tokenizer.fit_on_texts(amazon.review)\n",
    "train_x = tokenizer.texts_to_sequences(train_x) # will convert the text to sequences of IDs\n",
    "train_x = pad_sequences(train_x , maxlen = seq_len)"
   ]
  },
  {
   "cell_type": "code",
   "execution_count": 12,
   "id": "8f49164f",
   "metadata": {},
   "outputs": [],
   "source": [
    "test_x  =  tokenizer.texts_to_sequences(test_x)\n",
    "test_x  =  pad_sequences(test_x , maxlen = seq_len)\n",
    "model = Sequential()  # iniitialize the network\n",
    "model.add(Embedding(input_dim = max_num_words,    \n",
    "                   input_length = seq_len,\n",
    "                    output_dim = embedding_size))"
   ]
  },
  {
   "cell_type": "code",
   "execution_count": 13,
   "id": "50ee4b72",
   "metadata": {},
   "outputs": [
    {
     "name": "stderr",
     "output_type": "stream",
     "text": [
      "C:\\Users\\Priti\\anaconda3\\lib\\site-packages\\keras\\optimizer_v2\\adam.py:105: UserWarning: The `lr` argument is deprecated, use `learning_rate` instead.\n",
      "  super(Adam, self).__init__(name, **kwargs)\n"
     ]
    }
   ],
   "source": [
    "model.add(LSTM(5)) \n",
    "model.add(Dense(2 , activation  = 'softmax'))  # this 2 bcoz u have 2 level in target variable\n",
    "\n",
    "\n",
    "\n",
    "adam = Adam(lr = .001)\n",
    "\n",
    "\n",
    "model.compile(optimizer= 'adam' , loss = 'categorical_crossentropy' , metrics = ['accuracy'])"
   ]
  },
  {
   "cell_type": "code",
   "execution_count": 14,
   "id": "7740dfdf",
   "metadata": {},
   "outputs": [
    {
     "name": "stdout",
     "output_type": "stream",
     "text": [
      "Epoch 1/10\n",
      "200/200 [==============================] - 15s 65ms/step - loss: 0.5802 - accuracy: 0.6997 - val_loss: 0.5159 - val_accuracy: 0.7738\n",
      "Epoch 2/10\n",
      "200/200 [==============================] - 13s 64ms/step - loss: 0.3432 - accuracy: 0.8669 - val_loss: 0.4532 - val_accuracy: 0.7994\n",
      "Epoch 3/10\n",
      "200/200 [==============================] - 13s 64ms/step - loss: 0.1909 - accuracy: 0.9389 - val_loss: 0.4953 - val_accuracy: 0.7981\n",
      "Epoch 4/10\n",
      "200/200 [==============================] - 13s 63ms/step - loss: 0.1236 - accuracy: 0.9628 - val_loss: 0.5518 - val_accuracy: 0.7987\n",
      "Epoch 5/10\n",
      "200/200 [==============================] - 13s 63ms/step - loss: 0.0842 - accuracy: 0.9742 - val_loss: 0.5820 - val_accuracy: 0.7937\n",
      "Epoch 6/10\n",
      "200/200 [==============================] - 13s 63ms/step - loss: 0.0517 - accuracy: 0.9853 - val_loss: 0.6144 - val_accuracy: 0.8094\n",
      "Epoch 7/10\n",
      "200/200 [==============================] - 13s 63ms/step - loss: 0.0272 - accuracy: 0.9947 - val_loss: 0.6865 - val_accuracy: 0.8006\n",
      "Epoch 8/10\n",
      "200/200 [==============================] - 13s 63ms/step - loss: 0.0156 - accuracy: 0.9973 - val_loss: 0.7286 - val_accuracy: 0.8000\n",
      "Epoch 9/10\n",
      "200/200 [==============================] - 13s 63ms/step - loss: 0.0096 - accuracy: 0.9986 - val_loss: 0.7832 - val_accuracy: 0.7937\n",
      "Epoch 10/10\n",
      "200/200 [==============================] - 13s 63ms/step - loss: 0.0291 - accuracy: 0.9925 - val_loss: 0.7742 - val_accuracy: 0.7950\n"
     ]
    },
    {
     "data": {
      "text/plain": [
       "<keras.callbacks.History at 0x2235bf69c40>"
      ]
     },
     "execution_count": 14,
     "metadata": {},
     "output_type": "execute_result"
    }
   ],
   "source": [
    "model.fit(train_x , train_y , epochs = 10 , batch_size= 32, validation_split= .2)"
   ]
  },
  {
   "cell_type": "code",
   "execution_count": 15,
   "id": "7e01bea0",
   "metadata": {},
   "outputs": [
    {
     "data": {
      "text/plain": [
       "array([[0.99432003, 0.0056799 ],\n",
       "       [0.8923386 , 0.10766147],\n",
       "       [0.89292806, 0.10707197],\n",
       "       ...,\n",
       "       [0.9952192 , 0.00478081],\n",
       "       [0.00378111, 0.99621886],\n",
       "       [0.99890304, 0.00109698]], dtype=float32)"
      ]
     },
     "execution_count": 15,
     "metadata": {},
     "output_type": "execute_result"
    }
   ],
   "source": [
    "pred_test = model.predict(test_x)\n",
    "pred_test"
   ]
  },
  {
   "cell_type": "code",
   "execution_count": 16,
   "id": "bcba922d",
   "metadata": {},
   "outputs": [
    {
     "data": {
      "text/plain": [
       "array([0, 0, 0, ..., 0, 1, 0], dtype=int64)"
      ]
     },
     "execution_count": 16,
     "metadata": {},
     "output_type": "execute_result"
    }
   ],
   "source": [
    "pred_test_c=np.argmax(pred_test,axis=1)\n",
    "pred_test_c"
   ]
  },
  {
   "cell_type": "code",
   "execution_count": 17,
   "id": "9931b6a8",
   "metadata": {},
   "outputs": [
    {
     "data": {
      "text/plain": [
       "array([0, 0, 0, ..., 0, 1, 0], dtype=int64)"
      ]
     },
     "execution_count": 17,
     "metadata": {},
     "output_type": "execute_result"
    }
   ],
   "source": [
    "test_y_c=np.argmax(test_y,axis=1)\n",
    "test_y_c"
   ]
  },
  {
   "cell_type": "code",
   "execution_count": 18,
   "id": "0fbbc967",
   "metadata": {},
   "outputs": [],
   "source": [
    "from sklearn.metrics import *"
   ]
  },
  {
   "cell_type": "code",
   "execution_count": 19,
   "id": "6bdadb49",
   "metadata": {},
   "outputs": [
    {
     "data": {
      "text/plain": [
       "array([[917, 127],\n",
       "       [251, 705]], dtype=int64)"
      ]
     },
     "execution_count": 19,
     "metadata": {},
     "output_type": "execute_result"
    }
   ],
   "source": [
    "tab=confusion_matrix(test_y_c,pred_test_c)\n",
    "tab"
   ]
  },
  {
   "cell_type": "code",
   "execution_count": 20,
   "id": "e139b589",
   "metadata": {},
   "outputs": [
    {
     "data": {
      "text/plain": [
       "81.10000000000001"
      ]
     },
     "execution_count": 20,
     "metadata": {},
     "output_type": "execute_result"
    }
   ],
   "source": [
    "acc=accuracy_score(test_y_c,pred_test_c)\n",
    "acc*100"
   ]
  },
  {
   "cell_type": "code",
   "execution_count": 21,
   "id": "f66eb4c4",
   "metadata": {},
   "outputs": [
    {
     "data": {
      "text/plain": [
       "0.7374476987447699"
      ]
     },
     "execution_count": 21,
     "metadata": {},
     "output_type": "execute_result"
    }
   ],
   "source": [
    "recall_score(test_y_c,pred_test_c)"
   ]
  },
  {
   "cell_type": "code",
   "execution_count": 22,
   "id": "66857ea1",
   "metadata": {},
   "outputs": [
    {
     "data": {
      "text/plain": [
       "0.8473557692307693"
      ]
     },
     "execution_count": 22,
     "metadata": {},
     "output_type": "execute_result"
    }
   ],
   "source": [
    "precision_score(test_y_c,pred_test_c)"
   ]
  },
  {
   "cell_type": "code",
   "execution_count": null,
   "id": "12e57801",
   "metadata": {},
   "outputs": [],
   "source": []
  },
  {
   "cell_type": "code",
   "execution_count": null,
   "id": "798f6779",
   "metadata": {},
   "outputs": [],
   "source": []
  }
 ],
 "metadata": {
  "kernelspec": {
   "display_name": "Python 3",
   "language": "python",
   "name": "python3"
  },
  "language_info": {
   "codemirror_mode": {
    "name": "ipython",
    "version": 3
   },
   "file_extension": ".py",
   "mimetype": "text/x-python",
   "name": "python",
   "nbconvert_exporter": "python",
   "pygments_lexer": "ipython3",
   "version": "3.8.8"
  }
 },
 "nbformat": 4,
 "nbformat_minor": 5
}
